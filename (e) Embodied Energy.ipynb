{
 "cells": [
  {
   "cell_type": "markdown",
   "metadata": {},
   "source": [
    "# Construction of Building Typologies from a Regional Material Catalog:\n",
    "## Assessment of Urban Heat Demand and the Environmental Impact of Retrofit Policies.\n",
    "\n",
    "# (e) Embodied Energy\n",
    "\n",
    "**Supplementary material to the paper with the same title**\n",
    "\n",
    "[M. Esteban Munoz H.](emunozh@gmail.com)\n",
    "\n",
    "Fri Aug 07, 2015"
   ]
  },
  {
   "cell_type": "code",
   "execution_count": 1,
   "metadata": {
    "collapsed": true
   },
   "outputs": [],
   "source": [
    "import pandas as pd\n",
    "import matplotlib.pylab as plt\n",
    "import matplotlib\n",
    "pd.options.display.mpl_style = 'default'\n",
    "%matplotlib inline"
   ]
  },
  {
   "cell_type": "code",
   "execution_count": 2,
   "metadata": {
    "collapsed": false
   },
   "outputs": [],
   "source": [
    "from scripts.HeatDemand import computeEmbodiedEnergy"
   ]
  },
  {
   "cell_type": "code",
   "execution_count": 2,
   "metadata": {
    "collapsed": true
   },
   "outputs": [],
   "source": [
    "font = {'family' : 'normal',\n",
    "        'weight' : 'bold',\n",
    "        'size'   : 14}\n",
    "matplotlib.rc('font', **font)"
   ]
  },
  {
   "cell_type": "code",
   "execution_count": null,
   "metadata": {
    "collapsed": true
   },
   "outputs": [],
   "source": [
    "computeEmbodiedEnergy()"
   ]
  },
  {
   "cell_type": "code",
   "execution_count": 3,
   "metadata": {
    "collapsed": false
   },
   "outputs": [],
   "source": [
    "buildings = pd.read_csv(\"buildings_genergy.csv\")"
   ]
  },
  {
   "cell_type": "code",
   "execution_count": 4,
   "metadata": {
    "collapsed": false
   },
   "outputs": [],
   "source": [
    "buildings_sel = buildings[[\"Steinwolle_12cm\", \"Steinwolle_24cm\", \"XPS_12cm\", \"XPS_24cm\", \"EPS_12cm\", \"EPS_24cm\"]]"
   ]
  },
  {
   "cell_type": "code",
   "execution_count": 5,
   "metadata": {
    "collapsed": false
   },
   "outputs": [
    {
     "data": {
      "text/html": [
       "<div style=\"max-height:1000px;max-width:1500px;overflow:auto;\">\n",
       "<table border=\"1\" class=\"dataframe\">\n",
       "  <thead>\n",
       "    <tr style=\"text-align: right;\">\n",
       "      <th></th>\n",
       "      <th>Steinwolle_12cm</th>\n",
       "      <th>Steinwolle_24cm</th>\n",
       "      <th>XPS_12cm</th>\n",
       "      <th>XPS_24cm</th>\n",
       "      <th>EPS_12cm</th>\n",
       "      <th>EPS_24cm</th>\n",
       "    </tr>\n",
       "  </thead>\n",
       "  <tbody>\n",
       "    <tr>\n",
       "      <th>0</th>\n",
       "      <td>27952.550576</td>\n",
       "      <td>55905.101152</td>\n",
       "      <td>215433.828170</td>\n",
       "      <td>430867.656340</td>\n",
       "      <td>21534.529003</td>\n",
       "      <td>43069.058006</td>\n",
       "    </tr>\n",
       "    <tr>\n",
       "      <th>1</th>\n",
       "      <td>60533.347722</td>\n",
       "      <td>121066.695443</td>\n",
       "      <td>466538.135624</td>\n",
       "      <td>933076.271248</td>\n",
       "      <td>46634.639963</td>\n",
       "      <td>93269.279926</td>\n",
       "    </tr>\n",
       "    <tr>\n",
       "      <th>2</th>\n",
       "      <td>89276.767080</td>\n",
       "      <td>178553.534160</td>\n",
       "      <td>688067.289117</td>\n",
       "      <td>1376134.578235</td>\n",
       "      <td>68778.450995</td>\n",
       "      <td>137556.901991</td>\n",
       "    </tr>\n",
       "    <tr>\n",
       "      <th>3</th>\n",
       "      <td>208750.883053</td>\n",
       "      <td>417501.766106</td>\n",
       "      <td>1608869.349789</td>\n",
       "      <td>3217738.699577</td>\n",
       "      <td>160820.814305</td>\n",
       "      <td>321641.628609</td>\n",
       "    </tr>\n",
       "    <tr>\n",
       "      <th>4</th>\n",
       "      <td>39587.369535</td>\n",
       "      <td>79174.739070</td>\n",
       "      <td>305104.843401</td>\n",
       "      <td>610209.686803</td>\n",
       "      <td>30497.945262</td>\n",
       "      <td>60995.890525</td>\n",
       "    </tr>\n",
       "  </tbody>\n",
       "</table>\n",
       "</div>"
      ],
      "text/plain": [
       "   Steinwolle_12cm  Steinwolle_24cm        XPS_12cm        XPS_24cm  \\\n",
       "0     27952.550576     55905.101152   215433.828170   430867.656340   \n",
       "1     60533.347722    121066.695443   466538.135624   933076.271248   \n",
       "2     89276.767080    178553.534160   688067.289117  1376134.578235   \n",
       "3    208750.883053    417501.766106  1608869.349789  3217738.699577   \n",
       "4     39587.369535     79174.739070   305104.843401   610209.686803   \n",
       "\n",
       "        EPS_12cm       EPS_24cm  \n",
       "0   21534.529003   43069.058006  \n",
       "1   46634.639963   93269.279926  \n",
       "2   68778.450995  137556.901991  \n",
       "3  160820.814305  321641.628609  \n",
       "4   30497.945262   60995.890525  "
      ]
     },
     "execution_count": 5,
     "metadata": {},
     "output_type": "execute_result"
    }
   ],
   "source": [
    "buildings_sel.head()"
   ]
  },
  {
   "cell_type": "code",
   "execution_count": 6,
   "metadata": {
    "collapsed": false
   },
   "outputs": [],
   "source": [
    "buildings_sel = buildings_sel.div(buildings.sqm, axis=0)\n",
    "buildings_sel = buildings_sel.div(1/3.6, axis=0)\n",
    "buildings_sel = buildings_sel.div(40, axis=0)"
   ]
  },
  {
   "cell_type": "code",
   "execution_count": 7,
   "metadata": {
    "collapsed": false
   },
   "outputs": [
    {
     "data": {
      "text/html": [
       "<div style=\"max-height:1000px;max-width:1500px;overflow:auto;\">\n",
       "<table border=\"1\" class=\"dataframe\">\n",
       "  <thead>\n",
       "    <tr style=\"text-align: right;\">\n",
       "      <th></th>\n",
       "      <th>Steinwolle_12cm</th>\n",
       "      <th>Steinwolle_24cm</th>\n",
       "      <th>XPS_12cm</th>\n",
       "      <th>XPS_24cm</th>\n",
       "      <th>EPS_12cm</th>\n",
       "      <th>EPS_24cm</th>\n",
       "    </tr>\n",
       "  </thead>\n",
       "  <tbody>\n",
       "    <tr>\n",
       "      <th>0</th>\n",
       "      <td>12.958829</td>\n",
       "      <td>25.917658</td>\n",
       "      <td>99.875328</td>\n",
       "      <td>199.750655</td>\n",
       "      <td>9.983428</td>\n",
       "      <td>19.966856</td>\n",
       "    </tr>\n",
       "    <tr>\n",
       "      <th>1</th>\n",
       "      <td>8.730456</td>\n",
       "      <td>17.460912</td>\n",
       "      <td>67.286723</td>\n",
       "      <td>134.573446</td>\n",
       "      <td>6.725907</td>\n",
       "      <td>13.451814</td>\n",
       "    </tr>\n",
       "    <tr>\n",
       "      <th>2</th>\n",
       "      <td>8.125710</td>\n",
       "      <td>16.251420</td>\n",
       "      <td>62.625869</td>\n",
       "      <td>125.251738</td>\n",
       "      <td>6.260013</td>\n",
       "      <td>12.520026</td>\n",
       "    </tr>\n",
       "    <tr>\n",
       "      <th>3</th>\n",
       "      <td>29.099860</td>\n",
       "      <td>58.199721</td>\n",
       "      <td>224.276290</td>\n",
       "      <td>448.552580</td>\n",
       "      <td>22.418412</td>\n",
       "      <td>44.836824</td>\n",
       "    </tr>\n",
       "    <tr>\n",
       "      <th>4</th>\n",
       "      <td>10.794059</td>\n",
       "      <td>21.588118</td>\n",
       "      <td>83.191173</td>\n",
       "      <td>166.382345</td>\n",
       "      <td>8.315698</td>\n",
       "      <td>16.631397</td>\n",
       "    </tr>\n",
       "  </tbody>\n",
       "</table>\n",
       "</div>"
      ],
      "text/plain": [
       "   Steinwolle_12cm  Steinwolle_24cm    XPS_12cm    XPS_24cm   EPS_12cm  \\\n",
       "0        12.958829        25.917658   99.875328  199.750655   9.983428   \n",
       "1         8.730456        17.460912   67.286723  134.573446   6.725907   \n",
       "2         8.125710        16.251420   62.625869  125.251738   6.260013   \n",
       "3        29.099860        58.199721  224.276290  448.552580  22.418412   \n",
       "4        10.794059        21.588118   83.191173  166.382345   8.315698   \n",
       "\n",
       "    EPS_24cm  \n",
       "0  19.966856  \n",
       "1  13.451814  \n",
       "2  12.520026  \n",
       "3  44.836824  \n",
       "4  16.631397  "
      ]
     },
     "execution_count": 7,
     "metadata": {},
     "output_type": "execute_result"
    }
   ],
   "source": [
    "buildings_sel.head()"
   ]
  },
  {
   "cell_type": "code",
   "execution_count": 9,
   "metadata": {
    "collapsed": false
   },
   "outputs": [
    {
     "name": "stderr",
     "output_type": "stream",
     "text": [
      "/usr/lib/python3.4/site-packages/matplotlib/font_manager.py:1282: UserWarning: findfont: Font family ['normal'] not found. Falling back to Bitstream Vera Sans\n",
      "  (prop.get_family(), self.defaultFamily[fontext]))\n"
     ]
    },
    {
     "data": {
      "image/png": "[encoded data removed]",
      "text/plain": [
       "<matplotlib.figure.Figure at 0x7f932bea8d30>"
      ]
     },
     "metadata": {},
     "output_type": "display_data"
    }
   ],
   "source": [
    "fig, ax = plt.subplots(figsize=(8, 6))\n",
    "bp = buildings_sel.boxplot(ax=ax, return_type='axes')\n",
    "locs, labels = plt.xticks()\n",
    "labels = bp.get_xticklabels()\n",
    "labels_ticks = [l.get_text().split(\"\\\\\\\\\\\\\")[0] for l in labels]\n",
    "ax.set_xticklabels(labels_ticks, rotation=90)\n",
    "ax.set_title(\"Embodied energy on insulation materials\")\n",
    "ax.set_ylabel(r\"Embodied energy $[kWh/m^2 a_{40}]$\")\n",
    "ax.set_xlabel(\"\")\n",
    "fig.savefig(\"FIGURES/genergy.png\", bbox_inches=\"tight\")"
   ]
  },
  {
   "cell_type": "markdown",
   "metadata": {
    "collapsed": true
   },
   "source": [
    "# Materials"
   ]
  },
  {
   "cell_type": "code",
   "execution_count": 1,
   "metadata": {
    "collapsed": true
   },
   "outputs": [],
   "source": [
    "from OEKOBAU import getData_oeko\n",
    "from MASEA import getData_masea"
   ]
  },
  {
   "cell_type": "code",
   "execution_count": 2,
   "metadata": {
    "collapsed": true
   },
   "outputs": [],
   "source": [
    "oeko = getData_oeko()\n",
    "OEKO = oeko[([(((\"WDVS\" in o_name) & (\"Steinwolle\" in o_name)) |\n",
    "               ((\"WDVS\" in o_name) & (\"EPS\" in o_name) &\n",
    "               (\"Daemmplatte\" in o_name)) &\n",
    "               (\"End of life\" not in o_name) | (\"XPS\" in o_name))\n",
    "        for o_name in oeko.name])]\n",
    "\n",
    "masea = getData_masea()\n",
    "MASEA = masea[(masea.name == \"Steinwolle_60\") |\n",
    "              (masea.name == \"EPS_040.15\") |\n",
    "              (masea.name == \"XPS_Deckschicht 3\")]"
   ]
  },
  {
   "cell_type": "code",
   "execution_count": 3,
   "metadata": {
    "collapsed": false
   },
   "outputs": [
    {
     "data": {
      "text/html": [
       "<div style=\"max-height:1000px;max-width:1500px;overflow:auto;\">\n",
       "<table border=\"1\" class=\"dataframe\">\n",
       "  <thead>\n",
       "    <tr style=\"text-align: right;\">\n",
       "      <th></th>\n",
       "      <th>name</th>\n",
       "      <th>TEI</th>\n",
       "      <th>TEIunit</th>\n",
       "      <th>unit</th>\n",
       "      <th>RFA</th>\n",
       "    </tr>\n",
       "  </thead>\n",
       "  <tbody>\n",
       "    <tr>\n",
       "      <th>480</th>\n",
       "      <td>XPS-Daemmstof</td>\n",
       "      <td>97.5726</td>\n",
       "      <td>MJ</td>\n",
       "      <td>kg</td>\n",
       "      <td>1</td>\n",
       "    </tr>\n",
       "    <tr>\n",
       "      <th>482</th>\n",
       "      <td>WDVS mit EPS Daemmplatte geklebt -  Fachverban...</td>\n",
       "      <td>390.1300</td>\n",
       "      <td>MJ</td>\n",
       "      <td>m2</td>\n",
       "      <td>1</td>\n",
       "    </tr>\n",
       "    <tr>\n",
       "      <th>610</th>\n",
       "      <td>WDVS [kg m²] (geklebt und geduebelt Steinwolle...</td>\n",
       "      <td>506.4020</td>\n",
       "      <td>MJ</td>\n",
       "      <td>m2</td>\n",
       "      <td>1</td>\n",
       "    </tr>\n",
       "  </tbody>\n",
       "</table>\n",
       "</div>"
      ],
      "text/plain": [
       "                                                  name       TEI TEIunit unit  \\\n",
       "480                                      XPS-Daemmstof   97.5726      MJ   kg   \n",
       "482  WDVS mit EPS Daemmplatte geklebt -  Fachverban...  390.1300      MJ   m2   \n",
       "610  WDVS [kg m²] (geklebt und geduebelt Steinwolle...  506.4020      MJ   m2   \n",
       "\n",
       "     RFA  \n",
       "480    1  \n",
       "482    1  \n",
       "610    1  "
      ]
     },
     "execution_count": 3,
     "metadata": {},
     "output_type": "execute_result"
    }
   ],
   "source": [
    "OEKO"
   ]
  },
  {
   "cell_type": "code",
   "execution_count": 4,
   "metadata": {
    "collapsed": false
   },
   "outputs": [
    {
     "data": {
      "text/html": [
       "<div style=\"max-height:1000px;max-width:1500px;overflow:auto;\">\n",
       "<table border=\"1\" class=\"dataframe\">\n",
       "  <thead>\n",
       "    <tr style=\"text-align: right;\">\n",
       "      <th></th>\n",
       "      <th>name</th>\n",
       "      <th>family</th>\n",
       "      <th>subfamily</th>\n",
       "      <th>DenV</th>\n",
       "      <th>ConducV</th>\n",
       "      <th>HeatV</th>\n",
       "      <th>DiffV</th>\n",
       "    </tr>\n",
       "  </thead>\n",
       "  <tbody>\n",
       "    <tr>\n",
       "      <th>69</th>\n",
       "      <td>Steinwolle_60</td>\n",
       "      <td>Dämmstoffe</td>\n",
       "      <td>n.a</td>\n",
       "      <td>60</td>\n",
       "      <td>0.05</td>\n",
       "      <td>840</td>\n",
       "      <td>1.2</td>\n",
       "    </tr>\n",
       "    <tr>\n",
       "      <th>82</th>\n",
       "      <td>XPS_Deckschicht 3</td>\n",
       "      <td>Dämmstoffe</td>\n",
       "      <td>n.a</td>\n",
       "      <td>40</td>\n",
       "      <td>0.03</td>\n",
       "      <td>1500</td>\n",
       "      <td>450.0</td>\n",
       "    </tr>\n",
       "    <tr>\n",
       "      <th>165</th>\n",
       "      <td>EPS_040.15</td>\n",
       "      <td>Dämmstoffe</td>\n",
       "      <td>n.a</td>\n",
       "      <td>15</td>\n",
       "      <td>0.04</td>\n",
       "      <td>1500</td>\n",
       "      <td>30.0</td>\n",
       "    </tr>\n",
       "  </tbody>\n",
       "</table>\n",
       "</div>"
      ],
      "text/plain": [
       "                  name      family subfamily  DenV  ConducV  HeatV  DiffV\n",
       "69       Steinwolle_60  Dämmstoffe       n.a    60     0.05    840    1.2\n",
       "82   XPS_Deckschicht 3  Dämmstoffe       n.a    40     0.03   1500  450.0\n",
       "165         EPS_040.15  Dämmstoffe       n.a    15     0.04   1500   30.0"
      ]
     },
     "execution_count": 4,
     "metadata": {},
     "output_type": "execute_result"
    }
   ],
   "source": [
    "MASEA"
   ]
  },
  {
   "cell_type": "code",
   "execution_count": null,
   "metadata": {
    "collapsed": true
   },
   "outputs": [],
   "source": []
  }
 ],
 "metadata": {
  "kernelspec": {
   "display_name": "Python 3",
   "language": "python",
   "name": "python3"
  },
  "language_info": {
   "codemirror_mode": {
    "name": "ipython",
    "version": 3
   },
   "file_extension": ".py",
   "mimetype": "text/x-python",
   "name": "python",
   "nbconvert_exporter": "python",
   "pygments_lexer": "ipython3",
   "version": "3.4.3"
  }
 },
 "nbformat": 4,
 "nbformat_minor": 0
}
