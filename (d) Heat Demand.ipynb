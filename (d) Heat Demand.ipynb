{
 "cells": [
  {
   "cell_type": "markdown",
   "metadata": {},
   "source": [
    "# Construction of Building Typologies from a Regional Material Catalog:\n",
    "## Assessment of Urban Heat Demand and the Environmental Impact of Retrofit policies.\n",
    "\n",
    "# (d) Heat Demand\n",
    "\n",
    "**Supplementary material to the paper with the same name**\n",
    "\n",
    "[M. Esteban Munoz H.](emunozh@gmail.com)\n",
    "\n",
    "Thu Mar 12, 2015"
   ]
  },
  {
   "cell_type": "code",
   "execution_count": 11,
   "metadata": {
    "collapsed": true
   },
   "outputs": [],
   "source": [
    "import pandas as pd"
   ]
  },
  {
   "cell_type": "code",
   "execution_count": 1,
   "metadata": {
    "collapsed": false
   },
   "outputs": [],
   "source": [
    "from scripts.HeatDemand import computeHeat"
   ]
  },
  {
   "cell_type": "markdown",
   "metadata": {},
   "source": [
    "We make use of the R-library `heat` for the computation of residential heat\n",
    "demand, see <a name=\"ref-1\"/>[(Munoz H., 2015)](#cite-Munoz.2015)\n",
    "The `get_heat` function of the internal script `heat` is an\n",
    "implementation of the aboded mentioned library using the rpy2 python library."
   ]
  },
  {
   "cell_type": "markdown",
   "metadata": {},
   "source": [
    "Load buildings data and compute the heat demand for each building in the sample."
   ]
  },
  {
   "cell_type": "code",
   "execution_count": 8,
   "metadata": {
    "collapsed": false
   },
   "outputs": [],
   "source": [
    "buildings = pd.read_csv(\"buildings.csv\", index_col=0)"
   ]
  },
  {
   "cell_type": "code",
   "execution_count": 9,
   "metadata": {
    "collapsed": false
   },
   "outputs": [],
   "source": [
    "buildings = buildings.dropna()"
   ]
  },
  {
   "cell_type": "code",
   "execution_count": 10,
   "metadata": {
    "collapsed": false
   },
   "outputs": [
    {
     "data": {
      "text/html": [
       "<div>\n",
       "<table border=\"1\" class=\"dataframe\">\n",
       "  <thead>\n",
       "    <tr style=\"text-align: right;\">\n",
       "      <th></th>\n",
       "      <th>Baublock</th>\n",
       "      <th>SimpleGeometry</th>\n",
       "      <th>UUID</th>\n",
       "      <th>_id</th>\n",
       "      <th>aog</th>\n",
       "      <th>baw</th>\n",
       "      <th>bja</th>\n",
       "      <th>daf</th>\n",
       "      <th>ndu</th>\n",
       "      <th>shell</th>\n",
       "      <th>shell_wall</th>\n",
       "      <th>sqm</th>\n",
       "      <th>statistical area</th>\n",
       "    </tr>\n",
       "  </thead>\n",
       "  <tbody>\n",
       "    <tr>\n",
       "      <th>1</th>\n",
       "      <td>102023</td>\n",
       "      <td>POLYGON ((32565410.39149767 5933670.669502329,...</td>\n",
       "      <td>DEHHALKAJ0000p02</td>\n",
       "      <td>53d277cce138234a2bac5b25</td>\n",
       "      <td>5</td>\n",
       "      <td>2400</td>\n",
       "      <td>1917</td>\n",
       "      <td>1000</td>\n",
       "      <td>1</td>\n",
       "      <td>996.134621</td>\n",
       "      <td>788.127106</td>\n",
       "      <td>624.022547</td>\n",
       "      <td>1005</td>\n",
       "    </tr>\n",
       "    <tr>\n",
       "      <th>2</th>\n",
       "      <td>102034</td>\n",
       "      <td>POLYGON ((32565356.53787538 5933579.460124621,...</td>\n",
       "      <td>DEHHALKAJ0000oes</td>\n",
       "      <td>53d27821e138234a2bac5b93</td>\n",
       "      <td>6</td>\n",
       "      <td>2400</td>\n",
       "      <td>1962</td>\n",
       "      <td>3100</td>\n",
       "      <td>4</td>\n",
       "      <td>1469.135309</td>\n",
       "      <td>1151.979762</td>\n",
       "      <td>988.825493</td>\n",
       "      <td>1007</td>\n",
       "    </tr>\n",
       "    <tr>\n",
       "      <th>3</th>\n",
       "      <td>102036</td>\n",
       "      <td>POLYGON ((32565421.59929066 5933415.099709339,...</td>\n",
       "      <td>DEHHALKAJ0000oiY</td>\n",
       "      <td>53d2782ee138234a2bac5ba5</td>\n",
       "      <td>6</td>\n",
       "      <td>2400</td>\n",
       "      <td>1978</td>\n",
       "      <td>3100</td>\n",
       "      <td>2</td>\n",
       "      <td>3435.197120</td>\n",
       "      <td>3228.121917</td>\n",
       "      <td>645.624383</td>\n",
       "      <td>1007</td>\n",
       "    </tr>\n",
       "    <tr>\n",
       "      <th>4</th>\n",
       "      <td>102036</td>\n",
       "      <td>POLYGON ((32565415.88179568 5933391.177204321,...</td>\n",
       "      <td>DEHHALKAJ0000pIh</td>\n",
       "      <td>53d27831e138234a2bac5bab</td>\n",
       "      <td>4</td>\n",
       "      <td>2400</td>\n",
       "      <td>1971</td>\n",
       "      <td>3400</td>\n",
       "      <td>1</td>\n",
       "      <td>651.448348</td>\n",
       "      <td>492.657074</td>\n",
       "      <td>330.076318</td>\n",
       "      <td>1007</td>\n",
       "    </tr>\n",
       "    <tr>\n",
       "      <th>6</th>\n",
       "      <td>102046</td>\n",
       "      <td>POLYGON ((32565826.09841179 5933379.925588213,...</td>\n",
       "      <td>DEHHALKAJ0000pT3</td>\n",
       "      <td>53d27870e138234a2bac5c10</td>\n",
       "      <td>5</td>\n",
       "      <td>2400</td>\n",
       "      <td>1934</td>\n",
       "      <td>3400</td>\n",
       "      <td>8</td>\n",
       "      <td>172.286391</td>\n",
       "      <td>0.000000</td>\n",
       "      <td>447.702576</td>\n",
       "      <td>1008</td>\n",
       "    </tr>\n",
       "  </tbody>\n",
       "</table>\n",
       "</div>"
      ],
      "text/plain": [
       "   Baublock                                     SimpleGeometry  \\\n",
       "1    102023  POLYGON ((32565410.39149767 5933670.669502329,...   \n",
       "2    102034  POLYGON ((32565356.53787538 5933579.460124621,...   \n",
       "3    102036  POLYGON ((32565421.59929066 5933415.099709339,...   \n",
       "4    102036  POLYGON ((32565415.88179568 5933391.177204321,...   \n",
       "6    102046  POLYGON ((32565826.09841179 5933379.925588213,...   \n",
       "\n",
       "               UUID                       _id  aog   baw   bja   daf  ndu  \\\n",
       "1  DEHHALKAJ0000p02  53d277cce138234a2bac5b25    5  2400  1917  1000    1   \n",
       "2  DEHHALKAJ0000oes  53d27821e138234a2bac5b93    6  2400  1962  3100    4   \n",
       "3  DEHHALKAJ0000oiY  53d2782ee138234a2bac5ba5    6  2400  1978  3100    2   \n",
       "4  DEHHALKAJ0000pIh  53d27831e138234a2bac5bab    4  2400  1971  3400    1   \n",
       "6  DEHHALKAJ0000pT3  53d27870e138234a2bac5c10    5  2400  1934  3400    8   \n",
       "\n",
       "         shell   shell_wall         sqm  statistical area  \n",
       "1   996.134621   788.127106  624.022547              1005  \n",
       "2  1469.135309  1151.979762  988.825493              1007  \n",
       "3  3435.197120  3228.121917  645.624383              1007  \n",
       "4   651.448348   492.657074  330.076318              1007  \n",
       "6   172.286391     0.000000  447.702576              1008  "
      ]
     },
     "execution_count": 10,
     "metadata": {},
     "output_type": "execute_result"
    }
   ],
   "source": [
    "buildings.head()"
   ]
  },
  {
   "cell_type": "code",
   "execution_count": null,
   "metadata": {
    "collapsed": false
   },
   "outputs": [],
   "source": [
    "computeHeat(buildings, file_name=\"buildings_heat.csv\")"
   ]
  },
  {
   "cell_type": "markdown",
   "metadata": {},
   "source": [
    "the result will be stored as buildings_heat.csv"
   ]
  },
  {
   "cell_type": "markdown",
   "metadata": {},
   "source": [
    "#References\n",
    "\n",
    "<a name=\"cite-Munoz.2015\"/><sup>[^](#ref-1) </sup>Munoz H., M. E. (2015), ‘heat: R package to estimate heat demand of residential buildings’.\n",
    "URL: https://github.com/emunozh/heat"
   ]
  }
 ],
 "metadata": {
  "kernelspec": {
   "display_name": "Python 3",
   "language": "python",
   "name": "python3"
  },
  "language_info": {
   "codemirror_mode": {
    "name": "ipython",
    "version": 3
   },
   "file_extension": ".py",
   "mimetype": "text/x-python",
   "name": "python",
   "nbconvert_exporter": "python",
   "pygments_lexer": "ipython3",
   "version": "3.4.3"
  }
 },
 "nbformat": 4,
 "nbformat_minor": 0
}
