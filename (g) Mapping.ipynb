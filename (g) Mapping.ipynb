{
 "cells": [
  {
   "cell_type": "markdown",
   "metadata": {},
   "source": [
    "# Construction of Building Typologies from a Regional Material Catalog:\n",
    "## Assessment of Urban Heat Demand and the Environmental Impact of Retrofit policies.\n",
    "\n",
    "# (g) Mapping\n",
    "\n",
    "**Supplementary material to the paper with the same name**\n",
    "\n",
    "[M. Esteban Munoz H.](emunozh@gmail.com)\n",
    "\n",
    "Thu Mar 12, 2015"
   ]
  },
  {
   "cell_type": "code",
   "execution_count": 3,
   "metadata": {
    "collapsed": true
   },
   "outputs": [],
   "source": [
    "import pandas as pd\n",
    "import numpy as np"
   ]
  },
  {
   "cell_type": "code",
   "execution_count": 4,
   "metadata": {
    "collapsed": false
   },
   "outputs": [],
   "source": [
    "buildings = pd.read_csv(\"buildings_merged.csv\", index_col=\"UUID\")"
   ]
  },
  {
   "cell_type": "code",
   "execution_count": 5,
   "metadata": {
    "collapsed": false
   },
   "outputs": [],
   "source": [
    "buildings_goup = buildings.groupby(\"bb\").apply(sum)\n",
    "del buildings_goup[\"bja\"]"
   ]
  },
  {
   "cell_type": "code",
   "execution_count": 6,
   "metadata": {
    "collapsed": true
   },
   "outputs": [],
   "source": [
    "buildings_goup[\"genergy\"] = buildings_goup[\"XPS_24cm\"] / buildings_goup[\"sqm\"]"
   ]
  },
  {
   "cell_type": "code",
   "execution_count": 7,
   "metadata": {
    "collapsed": false
   },
   "outputs": [
    {
     "data": {
      "text/html": [
       "<div>\n",
       "<table border=\"1\" class=\"dataframe\">\n",
       "  <thead>\n",
       "    <tr style=\"text-align: right;\">\n",
       "      <th></th>\n",
       "      <th>sqm</th>\n",
       "      <th>shell</th>\n",
       "      <th>aog</th>\n",
       "      <th>heat_demand</th>\n",
       "      <th>bb</th>\n",
       "      <th>heat_r1</th>\n",
       "      <th>heat_r2</th>\n",
       "      <th>heat_r3</th>\n",
       "      <th>heat_r4</th>\n",
       "      <th>heat_r5</th>\n",
       "      <th>heat_r6</th>\n",
       "      <th>Steinwolle_12cm</th>\n",
       "      <th>Steinwolle_24cm</th>\n",
       "      <th>XPS_12cm</th>\n",
       "      <th>XPS_24cm</th>\n",
       "      <th>EPS_12cm</th>\n",
       "      <th>EPS_24cm</th>\n",
       "      <th>genergy</th>\n",
       "    </tr>\n",
       "    <tr>\n",
       "      <th>bb</th>\n",
       "      <th></th>\n",
       "      <th></th>\n",
       "      <th></th>\n",
       "      <th></th>\n",
       "      <th></th>\n",
       "      <th></th>\n",
       "      <th></th>\n",
       "      <th></th>\n",
       "      <th></th>\n",
       "      <th></th>\n",
       "      <th></th>\n",
       "      <th></th>\n",
       "      <th></th>\n",
       "      <th></th>\n",
       "      <th></th>\n",
       "      <th></th>\n",
       "      <th></th>\n",
       "      <th></th>\n",
       "    </tr>\n",
       "  </thead>\n",
       "  <tbody>\n",
       "    <tr>\n",
       "      <th>134010</th>\n",
       "      <td>6136.111403</td>\n",
       "      <td>7273.963254</td>\n",
       "      <td>11</td>\n",
       "      <td>546258.286043</td>\n",
       "      <td>670050</td>\n",
       "      <td>NaN</td>\n",
       "      <td>NaN</td>\n",
       "      <td>NaN</td>\n",
       "      <td>NaN</td>\n",
       "      <td>NaN</td>\n",
       "      <td>NaN</td>\n",
       "      <td>442025.944768</td>\n",
       "      <td>884051.889536</td>\n",
       "      <td>3406749.633568</td>\n",
       "      <td>6813499.267136</td>\n",
       "      <td>340534.954112</td>\n",
       "      <td>681069.908224</td>\n",
       "      <td>1110.393671</td>\n",
       "    </tr>\n",
       "    <tr>\n",
       "      <th>134011</th>\n",
       "      <td>8764.426510</td>\n",
       "      <td>11917.811099</td>\n",
       "      <td>16</td>\n",
       "      <td>700793.704140</td>\n",
       "      <td>804066</td>\n",
       "      <td>87123.297909</td>\n",
       "      <td>79864.440166</td>\n",
       "      <td>81640.741408</td>\n",
       "      <td>75598.302609</td>\n",
       "      <td>84657.844145</td>\n",
       "      <td>77865.094572</td>\n",
       "      <td>724224.405168</td>\n",
       "      <td>1448448.810335</td>\n",
       "      <td>5581688.713367</td>\n",
       "      <td>11163377.426733</td>\n",
       "      <td>557939.477309</td>\n",
       "      <td>1115878.954617</td>\n",
       "      <td>1273.714534</td>\n",
       "    </tr>\n",
       "    <tr>\n",
       "      <th>134025</th>\n",
       "      <td>8217.496998</td>\n",
       "      <td>12166.789163</td>\n",
       "      <td>89</td>\n",
       "      <td>645235.557542</td>\n",
       "      <td>2412450</td>\n",
       "      <td>55608.861572</td>\n",
       "      <td>47874.907469</td>\n",
       "      <td>49568.771308</td>\n",
       "      <td>44215.367519</td>\n",
       "      <td>52723.841432</td>\n",
       "      <td>46093.498127</td>\n",
       "      <td>739354.363899</td>\n",
       "      <td>1478708.727798</td>\n",
       "      <td>5698297.211067</td>\n",
       "      <td>11396594.422133</td>\n",
       "      <td>569595.534749</td>\n",
       "      <td>1139191.069498</td>\n",
       "      <td>1386.869314</td>\n",
       "    </tr>\n",
       "    <tr>\n",
       "      <th>134026</th>\n",
       "      <td>8701.880918</td>\n",
       "      <td>46408.409885</td>\n",
       "      <td>5</td>\n",
       "      <td>268960.842719</td>\n",
       "      <td>134026</td>\n",
       "      <td>NaN</td>\n",
       "      <td>NaN</td>\n",
       "      <td>NaN</td>\n",
       "      <td>NaN</td>\n",
       "      <td>NaN</td>\n",
       "      <td>NaN</td>\n",
       "      <td>2820157.389924</td>\n",
       "      <td>5640314.779847</td>\n",
       "      <td>21735308.228961</td>\n",
       "      <td>43470616.457922</td>\n",
       "      <td>2172637.553823</td>\n",
       "      <td>4345275.107645</td>\n",
       "      <td>4995.542558</td>\n",
       "    </tr>\n",
       "    <tr>\n",
       "      <th>134029</th>\n",
       "      <td>16920.708625</td>\n",
       "      <td>63073.509166</td>\n",
       "      <td>31</td>\n",
       "      <td>1081158.802603</td>\n",
       "      <td>1742377</td>\n",
       "      <td>106682.060202</td>\n",
       "      <td>96419.991736</td>\n",
       "      <td>98928.772158</td>\n",
       "      <td>90402.856515</td>\n",
       "      <td>103193.801076</td>\n",
       "      <td>93598.472749</td>\n",
       "      <td>3832866.142654</td>\n",
       "      <td>7665732.285309</td>\n",
       "      <td>29540382.146261</td>\n",
       "      <td>59080764.292521</td>\n",
       "      <td>2952824.175722</td>\n",
       "      <td>5905648.351443</td>\n",
       "      <td>3491.624707</td>\n",
       "    </tr>\n",
       "  </tbody>\n",
       "</table>\n",
       "</div>"
      ],
      "text/plain": [
       "                 sqm         shell  aog     heat_demand       bb  \\\n",
       "bb                                                                 \n",
       "134010   6136.111403   7273.963254   11   546258.286043   670050   \n",
       "134011   8764.426510  11917.811099   16   700793.704140   804066   \n",
       "134025   8217.496998  12166.789163   89   645235.557542  2412450   \n",
       "134026   8701.880918  46408.409885    5   268960.842719   134026   \n",
       "134029  16920.708625  63073.509166   31  1081158.802603  1742377   \n",
       "\n",
       "              heat_r1       heat_r2       heat_r3       heat_r4  \\\n",
       "bb                                                                \n",
       "134010            NaN           NaN           NaN           NaN   \n",
       "134011   87123.297909  79864.440166  81640.741408  75598.302609   \n",
       "134025   55608.861572  47874.907469  49568.771308  44215.367519   \n",
       "134026            NaN           NaN           NaN           NaN   \n",
       "134029  106682.060202  96419.991736  98928.772158  90402.856515   \n",
       "\n",
       "              heat_r5       heat_r6  Steinwolle_12cm  Steinwolle_24cm  \\\n",
       "bb                                                                      \n",
       "134010            NaN           NaN    442025.944768    884051.889536   \n",
       "134011   84657.844145  77865.094572    724224.405168   1448448.810335   \n",
       "134025   52723.841432  46093.498127    739354.363899   1478708.727798   \n",
       "134026            NaN           NaN   2820157.389924   5640314.779847   \n",
       "134029  103193.801076  93598.472749   3832866.142654   7665732.285309   \n",
       "\n",
       "               XPS_12cm         XPS_24cm        EPS_12cm        EPS_24cm  \\\n",
       "bb                                                                         \n",
       "134010   3406749.633568   6813499.267136   340534.954112   681069.908224   \n",
       "134011   5581688.713367  11163377.426733   557939.477309  1115878.954617   \n",
       "134025   5698297.211067  11396594.422133   569595.534749  1139191.069498   \n",
       "134026  21735308.228961  43470616.457922  2172637.553823  4345275.107645   \n",
       "134029  29540382.146261  59080764.292521  2952824.175722  5905648.351443   \n",
       "\n",
       "            genergy  \n",
       "bb                   \n",
       "134010  1110.393671  \n",
       "134011  1273.714534  \n",
       "134025  1386.869314  \n",
       "134026  4995.542558  \n",
       "134029  3491.624707  "
      ]
     },
     "execution_count": 7,
     "metadata": {},
     "output_type": "execute_result"
    }
   ],
   "source": [
    "buildings_goup.head()"
   ]
  },
  {
   "cell_type": "code",
   "execution_count": 9,
   "metadata": {
    "collapsed": true
   },
   "outputs": [],
   "source": [
    "buildings_goup.to_csv(\"buildings_group.csv\")"
   ]
  },
  {
   "cell_type": "markdown",
   "metadata": {
    "collapsed": true
   },
   "source": [
    "# Geometry"
   ]
  },
  {
   "cell_type": "code",
   "execution_count": 9,
   "metadata": {
    "collapsed": false
   },
   "outputs": [],
   "source": [
    "buildings_geometry = pd.read_csv(\"buildings_geometry.csv\", index_col=0)"
   ]
  },
  {
   "cell_type": "code",
   "execution_count": 10,
   "metadata": {
    "collapsed": false,
    "scrolled": false
   },
   "outputs": [
    {
     "data": {
      "text/html": [
       "<div>\n",
       "<table border=\"1\" class=\"dataframe\">\n",
       "  <thead>\n",
       "    <tr style=\"text-align: right;\">\n",
       "      <th></th>\n",
       "      <th>Geometry</th>\n",
       "      <th>SimpleGeometry</th>\n",
       "      <th>_id</th>\n",
       "    </tr>\n",
       "  </thead>\n",
       "  <tbody>\n",
       "    <tr>\n",
       "      <th>0</th>\n",
       "      <td>POLYGON ((32565445.41 5930054.472999999, 32565...</td>\n",
       "      <td>POLYGON ((32565446.10915073 5930047.197849273,...</td>\n",
       "      <td>53d2aa37e138234a2bacb322</td>\n",
       "    </tr>\n",
       "    <tr>\n",
       "      <th>1</th>\n",
       "      <td>POLYGON ((32565421.859 5930068.776000001, 3256...</td>\n",
       "      <td>POLYGON ((32565426.03886436 5930069.854135637,...</td>\n",
       "      <td>53d2aa38e138234a2bacb324</td>\n",
       "    </tr>\n",
       "    <tr>\n",
       "      <th>2</th>\n",
       "      <td>POLYGON ((32565444.302 5930031.42, 32565443.41...</td>\n",
       "      <td>POLYGON ((32565455.53866914 5930022.927330863,...</td>\n",
       "      <td>53d2aa38e138234a2bacb325</td>\n",
       "    </tr>\n",
       "    <tr>\n",
       "      <th>3</th>\n",
       "      <td>POLYGON ((32565406.947 5930051.098999999, 3256...</td>\n",
       "      <td>POLYGON ((32565404.23378118 5929957.975218822,...</td>\n",
       "      <td>53d2aa39e138234a2bacb327</td>\n",
       "    </tr>\n",
       "    <tr>\n",
       "      <th>4</th>\n",
       "      <td>POLYGON ((32565438.704 5930064.393999999, 3256...</td>\n",
       "      <td>POLYGON ((32565446.60672145 5930065.478278549,...</td>\n",
       "      <td>53d2aa3ae138234a2bacb328</td>\n",
       "    </tr>\n",
       "  </tbody>\n",
       "</table>\n",
       "</div>"
      ],
      "text/plain": [
       "                                            Geometry  \\\n",
       "0  POLYGON ((32565445.41 5930054.472999999, 32565...   \n",
       "1  POLYGON ((32565421.859 5930068.776000001, 3256...   \n",
       "2  POLYGON ((32565444.302 5930031.42, 32565443.41...   \n",
       "3  POLYGON ((32565406.947 5930051.098999999, 3256...   \n",
       "4  POLYGON ((32565438.704 5930064.393999999, 3256...   \n",
       "\n",
       "                                      SimpleGeometry                       _id  \n",
       "0  POLYGON ((32565446.10915073 5930047.197849273,...  53d2aa37e138234a2bacb322  \n",
       "1  POLYGON ((32565426.03886436 5930069.854135637,...  53d2aa38e138234a2bacb324  \n",
       "2  POLYGON ((32565455.53866914 5930022.927330863,...  53d2aa38e138234a2bacb325  \n",
       "3  POLYGON ((32565404.23378118 5929957.975218822,...  53d2aa39e138234a2bacb327  \n",
       "4  POLYGON ((32565446.60672145 5930065.478278549,...  53d2aa3ae138234a2bacb328  "
      ]
     },
     "execution_count": 10,
     "metadata": {},
     "output_type": "execute_result"
    }
   ],
   "source": [
    "buildings_geometry.head()"
   ]
  },
  {
   "cell_type": "code",
   "execution_count": 11,
   "metadata": {
    "collapsed": true
   },
   "outputs": [],
   "source": [
    "from shapely.wkt import loads\n",
    "from shapely.ops import cascaded_union"
   ]
  },
  {
   "cell_type": "code",
   "execution_count": 12,
   "metadata": {
    "collapsed": false,
    "scrolled": false
   },
   "outputs": [],
   "source": [
    "A = [loads(g) for g in buildings_geometry.Geometry]\n",
    "B = [loads(g) for g in buildings_geometry.SimpleGeometry]"
   ]
  },
  {
   "cell_type": "code",
   "execution_count": 13,
   "metadata": {
    "collapsed": false
   },
   "outputs": [],
   "source": [
    "polygons_A = cascaded_union(A)\n",
    "polygons_B = cascaded_union(B)"
   ]
  },
  {
   "cell_type": "code",
   "execution_count": 14,
   "metadata": {
    "collapsed": true
   },
   "outputs": [],
   "source": [
    "from matplotlib.patches import Polygon\n",
    "import pylab as pl\n",
    "import matplotlib\n",
    "pd.options.display.mpl_style = 'default'\n",
    "%matplotlib inline"
   ]
  },
  {
   "cell_type": "code",
   "execution_count": 15,
   "metadata": {
    "collapsed": false
   },
   "outputs": [],
   "source": [
    "font = {'family' : 'normal',\n",
    "        'weight' : 'bold',\n",
    "        'size'   : 14}\n",
    "matplotlib.rc('font', **font)"
   ]
  },
  {
   "cell_type": "code",
   "execution_count": 17,
   "metadata": {
    "collapsed": false
   },
   "outputs": [
    {
     "data": {
      "image/png": "[encoded data removed]",
      "text/plain": [
       "<matplotlib.figure.Figure at 0x7fa0e6712320>"
      ]
     },
     "metadata": {},
     "output_type": "display_data"
    }
   ],
   "source": [
    "fig, (ax1, ax2) = pl.subplots(figsize=(16, 8), ncols=2)\n",
    "\n",
    "for polygon in polygons_A:\n",
    "    mpl_poly = Polygon(np.array(polygon.exterior), facecolor=\"g\", lw=0, alpha=0.4)\n",
    "    ax1.add_patch(mpl_poly)\n",
    "ax1.set_title(\"Cadastre geometry\")\n",
    "ax1.relim()\n",
    "ax1.autoscale()\n",
    "xlim = ax1.get_xlim()\n",
    "ylim = ax1.get_ylim()\n",
    "ax1.set_ylabel(\"Northing\")\n",
    "ax1.set_xlabel(\"Easting\")\n",
    "\n",
    "for polygon in polygons_B:\n",
    "    mpl_poly = Polygon(np.array(polygon.exterior), facecolor=\"g\", lw=0, alpha=0.4)\n",
    "    ax2.add_patch(mpl_poly)\n",
    "ax2.set_title(\"Simplified geometry\")\n",
    "ax2.set_xlim(xlim)\n",
    "ax2.set_ylim(ylim)\n",
    "#ax2.set_yticks([])\n",
    "ax2.yaxis.tick_right()\n",
    "\n",
    "#fig.savefig(\"FIGURES/geometry.png\", bbox_inches=\"tight\");"
   ]
  }
 ],
 "metadata": {
  "kernelspec": {
   "display_name": "Python 3",
   "language": "python",
   "name": "python3"
  },
  "language_info": {
   "codemirror_mode": {
    "name": "ipython",
    "version": 3
   },
   "file_extension": ".py",
   "mimetype": "text/x-python",
   "name": "python",
   "nbconvert_exporter": "python",
   "pygments_lexer": "ipython3",
   "version": "3.4.3"
  }
 },
 "nbformat": 4,
 "nbformat_minor": 0
}
