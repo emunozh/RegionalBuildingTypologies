{
 "cells": [
  {
   "cell_type": "markdown",
   "metadata": {},
   "source": [
    "# Construction of Building Typologies from a Regional Material Catalog:\n",
    "## Assessment of Urban Heat Demand and the Environmental Impact of Retrofit policies.\n",
    "\n",
    "**Supplementary material to the paper with the same name**\n",
    "\n",
    "[M. Esteban Munoz H.](emunozh@gmail.com)\n",
    "\n",
    "Fri Aug 07, 2015"
   ]
  },
  {
   "cell_type": "markdown",
   "metadata": {},
   "source": [
    "The following collection of IPython notebooks presents a short description of\n",
    "the analysis performed to match different data sets regarding the material\n",
    "properties of building components of an regional material catalog. These\n",
    "components are attributed to buildings in a digital cadastre. Aim of this\n",
    "analysis if the representation of a regional building typology for the\n",
    "estimation of residential heat demand and environmental impacts of retrofits to\n",
    "the building stock.\n",
    "\n",
    "The notebooks are chronological sorted following the undertaken analysis steps.\n",
    "These scripts make use of the different scripts available under the folder\n",
    "called `scripts`. This collection of notebooks should serve as complementary\n",
    "material to the paper with the same name. A fully reproducibility of the\n",
    "results is with the provided data not possible. The used digital cadastre for\n",
    "the city of Hamburg is not available for public use. The material data are\n",
    "directly retrieved from an internal MySQL database, this database is not\n",
    "available for public use, but the data itself is. Please contact the paper\n",
    "author for further details on the used method and data.\n",
    "\n",
    "The analysis has been divided into 7 sections, each section is represent by a\n",
    "notebook:"
   ]
  },
  {
   "cell_type": "markdown",
   "metadata": {},
   "source": [
    "* [(a) Data Retrival](http://nbviewer.ipython.org/github/emunozh/RegionalBuildingTypologies/blob/master/%28a%29%20Data%20Retrival.ipynb) \n",
    "    This notebook described the algorithm used to retrive the data describing\n",
    "    the regional material catalog."
   ]
  },
  {
   "cell_type": "markdown",
   "metadata": {},
   "source": [
    "* [(b) Enriching the Data](http://nbviewer.ipython.org/github/emunozh/RegionalBuildingTypologies/blob/master/%28b%29%20Enriching%20the%20Data.ipynb)\n",
    "    This notebook describes the process used to enrich the regional catalog\n",
    "    with data from the\n",
    "    [MASEA](http://www.masea-ensan.com/) data set and the\n",
    "    [Ökobau.dat](http://www.nachhaltigesbauen.de/baustoff-und-gebaeudedaten/oekobaudat.html)\n",
    "    data set."
   ]
  },
  {
   "cell_type": "markdown",
   "metadata": {},
   "source": [
    "* [(c) Constructing Typologies](http://nbviewer.ipython.org/github/emunozh/RegionalBuildingTypologies/blob/master/%28c%29%20Constructing%20Typologies.ipynb)\n",
    "    Is a description of the developed algorithm used to define building\n",
    "    typologies based on the enriched building material catalog."
   ]
  },
  {
   "cell_type": "markdown",
   "metadata": {},
   "source": [
    "* [(d) Heat Demand](http://nbviewer.ipython.org/github/emunozh/RegionalBuildingTypologies/blob/master/%28d%29%20Heat%20Demand.ipynb)\n",
    "    Implements an R package for the estimation of heat demand using information\n",
    "    from the regional building typology."
   ]
  },
  {
   "cell_type": "markdown",
   "metadata": {},
   "source": [
    "* [(e) Embodied Energy](http://nbviewer.ipython.org/github/emunozh/RegionalBuildingTypologies/blob/master/%28e%29%20Embodied%20Energy.ipynb)\n",
    "    Shows the undertaken computation for the estimation of embodied energy of\n",
    "    retrofits."
   ]
  },
  {
   "cell_type": "markdown",
   "metadata": {},
   "source": [
    "* [(f) Energy Payback](http://nbviewer.ipython.org/github/emunozh/RegionalBuildingTypologies/blob/master/%28f%29%20Energy%20Payback.ipynb)\n",
    "    Presents a comparision between the estimated operational heat demand of the\n",
    "    individual buildings and the estimated embodied energy of retrofit\n",
    "    alternatives."
   ]
  },
  {
   "cell_type": "markdown",
   "metadata": {},
   "source": [
    "* [(g) Mapping](http://nbviewer.ipython.org/github/emunozh/RegionalBuildingTypologies/blob/master/%28g%29%20Mapping.ipynb)\n",
    "    Briefly presents the implemented geometrical simplification of builiding of\n",
    "    the digital cadastre for the estimation of heat demand and embodied energy."
   ]
  }
 ],
 "metadata": {
  "kernelspec": {
   "display_name": "Python 3",
   "language": "python",
   "name": "python3"
  },
  "language_info": {
   "codemirror_mode": {
    "name": "ipython",
    "version": 3
   },
   "file_extension": ".py",
   "mimetype": "text/x-python",
   "name": "python",
   "nbconvert_exporter": "python",
   "pygments_lexer": "ipython3",
   "version": "3.4.3"
  }
 },
 "nbformat": 4,
 "nbformat_minor": 0
}
