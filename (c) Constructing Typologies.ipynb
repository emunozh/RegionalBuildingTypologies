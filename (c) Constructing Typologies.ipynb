{
 "cells": [
  {
   "cell_type": "markdown",
   "metadata": {},
   "source": [
    "# Construction of Building Typologies from a Regional Material Catalog:\n",
    "## Assessment of Urban Heat Demand and the Environmental Impact of Retrofit policies.\n",
    "\n",
    "# (c) Constructing Typologies\n",
    "\n",
    "**Supplementary material to the paper with the same name**\n",
    "\n",
    "[M. Esteban Munoz H.](emunozh@gmail.com)\n",
    "\n",
    "Thu Mar 12, 2015"
   ]
  },
  {
   "cell_type": "markdown",
   "metadata": {},
   "source": [
    "#Table of Contents\n",
    "* [1. Define Functions](#1.-Define-Functions)\n",
    "* [2. Example - Construction Year 1956](#2.-Example---Construction-Year-1956)\n",
    "* [3. Recompute U-values with MASEA Materials](#3.-Recompute-U-values-with-MASEA-Materials)\n",
    "\t* [3.1. Wall](#3.1.-Wall)\n",
    "    * [3.2. Roof](#3.2.-Roof)\n",
    "    * [3.2. Function](#3.2.-Function)\n",
    "* [4. U-value difference](#4.-U-value-difference)"
   ]
  },
  {
   "cell_type": "markdown",
   "metadata": {},
   "source": [
    "Import internal libraries"
   ]
  },
  {
   "cell_type": "code",
   "execution_count": 3,
   "metadata": {
    "collapsed": true
   },
   "outputs": [],
   "source": [
    "from scripts.components import get_components"
   ]
  },
  {
   "cell_type": "markdown",
   "metadata": {},
   "source": [
    "# 1. Defined Function `get_components`"
   ]
  },
  {
   "cell_type": "markdown",
   "metadata": {},
   "source": [
    "The `get_components` function will load materiasl from the hdf data frame, see [(a) Data_Retrival](http://localhost:8888/notebooks/(a). For the computation of u-values we use the R-library *heat* <a name=\"ref-1\"/>[(Munoz H., 2015)](#cite-Munoz.2015). We import the *rpy2* python library to call R functions. The components use the Get MASEA based u-value though the use of the internal function `getMasea`, see [(b) Enriching the Data](http://localhost:8888/notebooks/(b)."
   ]
  },
  {
   "cell_type": "markdown",
   "metadata": {},
   "source": [
    "Definition of possible construction periods as define in the regional material catalogue."
   ]
  },
  {
   "cell_type": "markdown",
   "metadata": {},
   "source": [
    "* The internal function `get_element`, used by function `get_components` retrieves a building component from the catalogue based on:\n",
    "    1. location\n",
    "    2. construction year\n",
    "    3. building component type"
   ]
  },
  {
   "cell_type": "markdown",
   "metadata": {},
   "source": [
    "* The parameter *location* is define as a string containing the location code from the regional material catalogue. The parameter *year* is define as an integer between defining the construction year of the building. The *building component type* parameter distinguish between two building components: (a) *wall* and (b) *roof*. the regional material catalogue identifies more component types, these other component types haven't been implemented yet into the source code."
   ]
  },
  {
   "cell_type": "markdown",
   "metadata": {},
   "source": [
    "* Function `get_year_index` gets the index of list *years* based on an input year of data type integer."
   ]
  },
  {
   "cell_type": "markdown",
   "metadata": {},
   "source": [
    "* Function `get_components` calls the other functions and outputs a python dictionary containing the corresponding building components (in this case *wall* and *roof*). Each building component has a list with all the corresponding material layers of each building component and the original u-value from the catalogue. The function takes the construction year as input."
   ]
  },
  {
   "cell_type": "markdown",
   "metadata": {},
   "source": [
    "#2. Example - Construction Year 1956"
   ]
  },
  {
   "cell_type": "code",
   "execution_count": 12,
   "metadata": {
    "collapsed": false
   },
   "outputs": [],
   "source": [
    "components = get_components(1956)"
   ]
  },
  {
   "cell_type": "code",
   "execution_count": 13,
   "metadata": {
    "collapsed": false
   },
   "outputs": [
    {
     "data": {
      "text/html": [
       "<div style=\"max-height:1000px;max-width:1500px;overflow:auto;\">\n",
       "<table border=\"1\" class=\"dataframe\">\n",
       "  <thead>\n",
       "    <tr style=\"text-align: right;\">\n",
       "      <th></th>\n",
       "      <th></th>\n",
       "      <th>catalogue</th>\n",
       "      <th>masea</th>\n",
       "    </tr>\n",
       "    <tr>\n",
       "      <th>year</th>\n",
       "      <th>typ</th>\n",
       "      <th></th>\n",
       "      <th></th>\n",
       "    </tr>\n",
       "  </thead>\n",
       "  <tbody>\n",
       "    <tr>\n",
       "      <th rowspan=\"2\" valign=\"top\">1949 bis 1957</th>\n",
       "      <th>wall</th>\n",
       "      <td>1.63</td>\n",
       "      <td>1.716704</td>\n",
       "    </tr>\n",
       "    <tr>\n",
       "      <th>roof</th>\n",
       "      <td>1.19</td>\n",
       "      <td>1.243339</td>\n",
       "    </tr>\n",
       "  </tbody>\n",
       "</table>\n",
       "</div>"
      ],
      "text/plain": [
       "                    catalogue     masea\n",
       "year          typ                      \n",
       "1949 bis 1957 wall       1.63  1.716704\n",
       "              roof       1.19  1.243339"
      ]
     },
     "execution_count": 13,
     "metadata": {},
     "output_type": "execute_result"
    }
   ],
   "source": [
    "components"
   ]
  },
  {
   "cell_type": "code",
   "execution_count": 14,
   "metadata": {
    "collapsed": false
   },
   "outputs": [],
   "source": [
    "components = get_components(1956, iteration=10)"
   ]
  },
  {
   "cell_type": "code",
   "execution_count": 15,
   "metadata": {
    "collapsed": false
   },
   "outputs": [
    {
     "data": {
      "text/html": [
       "<div style=\"max-height:1000px;max-width:1500px;overflow:auto;\">\n",
       "<table border=\"1\" class=\"dataframe\">\n",
       "  <thead>\n",
       "    <tr style=\"text-align: right;\">\n",
       "      <th></th>\n",
       "      <th></th>\n",
       "      <th>catalogue</th>\n",
       "      <th>masea</th>\n",
       "    </tr>\n",
       "    <tr>\n",
       "      <th>year</th>\n",
       "      <th>typ</th>\n",
       "      <th></th>\n",
       "      <th></th>\n",
       "    </tr>\n",
       "  </thead>\n",
       "  <tbody>\n",
       "    <tr>\n",
       "      <th rowspan=\"2\" valign=\"top\">1949 bis 1957</th>\n",
       "      <th>wall</th>\n",
       "      <td>1.66</td>\n",
       "      <td>1.657532</td>\n",
       "    </tr>\n",
       "    <tr>\n",
       "      <th>roof</th>\n",
       "      <td>1.19</td>\n",
       "      <td>1.243339</td>\n",
       "    </tr>\n",
       "  </tbody>\n",
       "</table>\n",
       "</div>"
      ],
      "text/plain": [
       "                    catalogue     masea\n",
       "year          typ                      \n",
       "1949 bis 1957 wall       1.66  1.657532\n",
       "              roof       1.19  1.243339"
      ]
     },
     "execution_count": 15,
     "metadata": {},
     "output_type": "execute_result"
    }
   ],
   "source": [
    "components"
   ]
  },
  {
   "cell_type": "markdown",
   "metadata": {},
   "source": [
    "# 4. U-value difference"
   ]
  },
  {
   "cell_type": "code",
   "execution_count": 4,
   "metadata": {
    "collapsed": false
   },
   "outputs": [],
   "source": [
    "dat = get_components(1918, iteration=1)\n",
    "for year in range(1910, 1979, 2):\n",
    "    tmp = get_components(year, iteration=1)\n",
    "    dat = dat.append([tmp])"
   ]
  },
  {
   "cell_type": "code",
   "execution_count": 5,
   "metadata": {
    "collapsed": false
   },
   "outputs": [],
   "source": [
    "dat[\"diff\"] = abs(dat.masea - dat.catalogue) / dat.catalogue"
   ]
  },
  {
   "cell_type": "code",
   "execution_count": 6,
   "metadata": {
    "collapsed": false
   },
   "outputs": [],
   "source": [
    "dat = dat.reset_index()"
   ]
  },
  {
   "cell_type": "code",
   "execution_count": 7,
   "metadata": {
    "collapsed": true
   },
   "outputs": [],
   "source": [
    "dat.to_csv(\"difference_uval_1iter.csv\")"
   ]
  },
  {
   "cell_type": "markdown",
   "metadata": {},
   "source": [
    "## Plot"
   ]
  },
  {
   "cell_type": "code",
   "execution_count": 8,
   "metadata": {
    "collapsed": true
   },
   "outputs": [],
   "source": [
    "from pylab import polyfit, poly1d"
   ]
  },
  {
   "cell_type": "code",
   "execution_count": 9,
   "metadata": {
    "collapsed": true
   },
   "outputs": [],
   "source": [
    "import matplotlib.pylab as plt\n",
    "import matplotlib\n",
    "pd.options.display.mpl_style = 'default'\n",
    "%matplotlib inline"
   ]
  },
  {
   "cell_type": "code",
   "execution_count": 10,
   "metadata": {
    "collapsed": true
   },
   "outputs": [],
   "source": [
    "font = {'family' : 'normal',\n",
    "        'weight' : 'bold',\n",
    "        'size'   : 14}\n",
    "matplotlib.rc('font', **font)"
   ]
  },
  {
   "cell_type": "code",
   "execution_count": 12,
   "metadata": {
    "collapsed": false
   },
   "outputs": [
    {
     "data": {
      "text/plain": [
       "<matplotlib.text.Text at 0x7f47b2f23240>"
      ]
     },
     "execution_count": 12,
     "metadata": {},
     "output_type": "execute_result"
    },
    {
     "data": {
      "image/png": "[encoded data removed]",
      "text/plain": [
       "<matplotlib.figure.Figure at 0x7f47b2f15f98>"
      ]
     },
     "metadata": {},
     "output_type": "display_data"
    }
   ],
   "source": [
    "fig, ax = plt.subplots(figsize=(8, 6))\n",
    "bp = dat.boxplot(column='diff', by=['year', 'typ'], ax=ax)\n",
    "locs, labels = plt.xticks()\n",
    "labels = bp.get_xticklabels()\n",
    "labels_ticks = [l.get_text().split(\"\\\\\\\\\\\\\")[0] for l in labels]\n",
    "ax.set_xticklabels(labels_ticks, rotation=90);\n",
    "ax.set_title(\"\")\n",
    "ax.set_ylabel(\"relative difference in u-values [%]\")\n",
    "ax.set_xlabel(\"\")\n",
    "#fig.savefig(\"FIGURES/uval-diff-1iter.png\", bbox_inches=\"tight\")"
   ]
  },
  {
   "cell_type": "code",
   "execution_count": 13,
   "metadata": {
    "collapsed": false
   },
   "outputs": [
    {
     "data": {
      "text/html": [
       "<div>\n",
       "<table border=\"1\" class=\"dataframe\">\n",
       "  <thead>\n",
       "    <tr style=\"text-align: right;\">\n",
       "      <th></th>\n",
       "      <th>year</th>\n",
       "      <th>typ</th>\n",
       "      <th>catalogue</th>\n",
       "      <th>masea</th>\n",
       "      <th>diff</th>\n",
       "    </tr>\n",
       "  </thead>\n",
       "  <tbody>\n",
       "    <tr>\n",
       "      <th>43</th>\n",
       "      <td>1949 bis 1957</td>\n",
       "      <td>roof</td>\n",
       "      <td>1.19</td>\n",
       "      <td>1.207057</td>\n",
       "      <td>0.014333</td>\n",
       "    </tr>\n",
       "    <tr>\n",
       "      <th>45</th>\n",
       "      <td>1949 bis 1957</td>\n",
       "      <td>roof</td>\n",
       "      <td>1.19</td>\n",
       "      <td>1.207057</td>\n",
       "      <td>0.014333</td>\n",
       "    </tr>\n",
       "    <tr>\n",
       "      <th>52</th>\n",
       "      <td>1958 bis 1968</td>\n",
       "      <td>wall</td>\n",
       "      <td>1.08</td>\n",
       "      <td>1.063613</td>\n",
       "      <td>0.015174</td>\n",
       "    </tr>\n",
       "    <tr>\n",
       "      <th>57</th>\n",
       "      <td>1958 bis 1968</td>\n",
       "      <td>roof</td>\n",
       "      <td>0.60</td>\n",
       "      <td>0.609133</td>\n",
       "      <td>0.015221</td>\n",
       "    </tr>\n",
       "    <tr>\n",
       "      <th>1</th>\n",
       "      <td>bis 1918</td>\n",
       "      <td>roof</td>\n",
       "      <td>2.96</td>\n",
       "      <td>2.890571</td>\n",
       "      <td>0.023456</td>\n",
       "    </tr>\n",
       "  </tbody>\n",
       "</table>\n",
       "</div>"
      ],
      "text/plain": [
       "             year   typ  catalogue     masea      diff\n",
       "43  1949 bis 1957  roof       1.19  1.207057  0.014333\n",
       "45  1949 bis 1957  roof       1.19  1.207057  0.014333\n",
       "52  1958 bis 1968  wall       1.08  1.063613  0.015174\n",
       "57  1958 bis 1968  roof       0.60  0.609133  0.015221\n",
       "1        bis 1918  roof       2.96  2.890571  0.023456"
      ]
     },
     "execution_count": 13,
     "metadata": {},
     "output_type": "execute_result"
    }
   ],
   "source": [
    "dat.sort(\"diff\").head()"
   ]
  },
  {
   "cell_type": "markdown",
   "metadata": {},
   "source": [
    "#References\n",
    "\n",
    "<a name=\"cite-Munoz.2015\"/><sup>[^](#ref-1) </sup>Munoz H., M. E. (2015), ‘heat: R package to estimate heat demand of residential buildings’.\n",
    "URL: https://github.com/emunozh/heat\n"
   ]
  }
 ],
 "metadata": {
  "kernelspec": {
   "display_name": "Python 3",
   "language": "python",
   "name": "python3"
  },
  "language_info": {
   "codemirror_mode": {
    "name": "ipython",
    "version": 3
   },
   "file_extension": ".py",
   "mimetype": "text/x-python",
   "name": "python",
   "nbconvert_exporter": "python",
   "pygments_lexer": "ipython3",
   "version": "3.4.3"
  }
 },
 "nbformat": 4,
 "nbformat_minor": 0
}
