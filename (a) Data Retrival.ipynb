{
 "cells": [
  {
   "cell_type": "markdown",
   "metadata": {},
   "source": [
    "# Construction of Building Typologies from a Regional Material Catalog:\n",
    "## Assessment of Urban Heat Demand and the Environmental Impact of Retrofit policies.\n",
    "\n",
    "# (a) Data retrieval\n",
    "\n",
    "**Supplementary material to the paper with the same name**\n",
    "\n",
    "[M. Esteban Munoz H.](emunozh@gmail.com)\n",
    "\n",
    "Thu Mar 12, 2015"
   ]
  },
  {
   "cell_type": "markdown",
   "metadata": {},
   "source": [
    "#Table of Contents\n",
    "* [1. Retrive the data from the internet](#1.-Retrive-the-data-from-the-internet)\n",
    "* [2. Parse html data](#2.-Parse-html-data)\n",
    "* [3. Material characteristics](#3.-Material-characteristics)\n",
    "* [4. Store the data on a HDF5 file](#4.-Store-the-data-on-a-HDF5-file)\n"
   ]
  },
  {
   "cell_type": "markdown",
   "metadata": {},
   "source": [
    "In this notebook we present the used algorithm to download and process the data from <a name=\"ref-1\"/>[(Klauß, Kirchhof and Gissel, 2009)](#cite-Klauss.2009), for a description of the method behind this data set see <a name=\"ref-2\"/>[(Klauß, Kirchhof and Gissel, 2009b)](#cite-Klauss.2009b)."
   ]
  },
  {
   "cell_type": "markdown",
   "metadata": {},
   "source": [
    "# 1. Retrive the data from the internet"
   ]
  },
  {
   "cell_type": "markdown",
   "metadata": {},
   "source": [
    "Unfortunately the data form the regional material catalog is not available, therefor we have to extract this information directly from the website. First we download the raw html files containing the information from all the different building components, in a second step we process each html file in order to extract the desire data. Because the individual links to the building components do not contain a coherent format we have to download around 500 files and drop empty html files. All the files are downloaded from: http://altbauatlas.de/index.php?suche=1."
   ]
  },
  {
   "cell_type": "code",
   "execution_count": 1,
   "metadata": {
    "collapsed": false
   },
   "outputs": [],
   "source": [
    "# talk to my os\n",
    "import os\n",
    "# used to download web pages\n",
    "from urllib import request\n",
    "# display html content on the ipython notebook\n",
    "from IPython.display import HTML\n",
    "# internal libraries\n",
    "from scripts.fetchData import getData"
   ]
  },
  {
   "cell_type": "markdown",
   "metadata": {},
   "source": [
    "In order to parse the html data we download a single web, we can view the structure of this page and design an algorithm to download and process the data on this web-page.  "
   ]
  },
  {
   "cell_type": "code",
   "execution_count": 2,
   "metadata": {
    "collapsed": false
   },
   "outputs": [
    {
     "data": {
      "text/plain": [
       "('/home/esteban/workspace/github/RegionalMaterialTypologies/html/187.html',\n",
       " <http.client.HTTPMessage at 0x7f49c3b5bb00>)"
      ]
     },
     "execution_count": 2,
     "metadata": {},
     "output_type": "execute_result"
    }
   ],
   "source": [
    "test_url = \"http://altbauatlas.de/datenblatt.php?id=187\"\n",
    "dat_path = os.path.join(os.getcwd(), \"html/187.html\")\n",
    "request.urlretrieve(test_url, dat_path)"
   ]
  },
  {
   "cell_type": "code",
   "execution_count": 3,
   "metadata": {
    "collapsed": false
   },
   "outputs": [],
   "source": [
    "#!cat ./html/232.html # In case you need to view the raw html file"
   ]
  },
  {
   "cell_type": "code",
   "execution_count": 4,
   "metadata": {
    "collapsed": false
   },
   "outputs": [
    {
     "data": {
      "text/html": [
       "<iframe src=http://altbauatlas.de/datenblatt.php?id=187 width=900 height=350></iframe>"
      ],
      "text/plain": [
       "<IPython.core.display.HTML object>"
      ]
     },
     "execution_count": 4,
     "metadata": {},
     "output_type": "execute_result"
    }
   ],
   "source": [
    "HTML(\"<iframe src={} width=900 height=350></iframe>\".format(test_url))"
   ]
  },
  {
   "cell_type": "code",
   "execution_count": 5,
   "metadata": {
    "collapsed": false
   },
   "outputs": [],
   "source": [
    "for i in range(1500):\n",
    "    test_url = \"http://altbauatlas.de/datenblatt.php?id={}\".format(i)\n",
    "    dat_path = os.path.join(os.getcwd(), \"html/{}.html\".format(i))\n",
    "    if not os.path.isfile(dat_path):\n",
    "        request.urlretrieve(test_url, dat_path)"
   ]
  },
  {
   "cell_type": "markdown",
   "metadata": {},
   "source": [
    "# 2. Parse html data"
   ]
  },
  {
   "cell_type": "code",
   "execution_count": 6,
   "metadata": {
    "collapsed": false
   },
   "outputs": [],
   "source": [
    "material_table = getData()"
   ]
  },
  {
   "cell_type": "code",
   "execution_count": 7,
   "metadata": {
    "collapsed": false
   },
   "outputs": [
    {
     "data": {
      "text/html": [
       "<div>\n",
       "<table border=\"1\" class=\"dataframe\">\n",
       "  <thead>\n",
       "    <tr style=\"text-align: right;\">\n",
       "      <th></th>\n",
       "      <th>Construction</th>\n",
       "      <th>File</th>\n",
       "      <th>Location</th>\n",
       "      <th>Name</th>\n",
       "      <th>Source</th>\n",
       "      <th>Type</th>\n",
       "      <th>Uval</th>\n",
       "      <th>Year</th>\n",
       "    </tr>\n",
       "  </thead>\n",
       "  <tbody>\n",
       "    <tr>\n",
       "      <th>0</th>\n",
       "      <td>massiv</td>\n",
       "      <td>849.html</td>\n",
       "      <td>48</td>\n",
       "      <td>Fachdach, massiv, Stahbeton, geringe Dämmung, ...</td>\n",
       "      <td>Typologie Münster, DIN 4108:1960-05,</td>\n",
       "      <td>Flachdach</td>\n",
       "      <td>[0.91, 0.92, 0.93, 0.94, 0.95, 0.96, 0.97, 0.9...</td>\n",
       "      <td>1958 bis 1978</td>\n",
       "    </tr>\n",
       "    <tr>\n",
       "      <th>1</th>\n",
       "      <td>massiv</td>\n",
       "      <td>445.html</td>\n",
       "      <td>45</td>\n",
       "      <td>Fachdach, massiv, Stahbeton, Dämmung, Warmdach</td>\n",
       "      <td>Typologie Essen, DIN 4108:1969-08,</td>\n",
       "      <td>Flachdach</td>\n",
       "      <td>[0.51]</td>\n",
       "      <td>1969 bis 1978</td>\n",
       "    </tr>\n",
       "    <tr>\n",
       "      <th>2</th>\n",
       "      <td>Holzkonstruktion</td>\n",
       "      <td>762.html</td>\n",
       "      <td>36</td>\n",
       "      <td>Steidach, Hozbauweise, Dämmung</td>\n",
       "      <td>Typologie Bad Hersfeld, DIN 4108-4:1981-08</td>\n",
       "      <td>Steildach</td>\n",
       "      <td>[0.35]</td>\n",
       "      <td>1984 bis 1994</td>\n",
       "    </tr>\n",
       "    <tr>\n",
       "      <th>3</th>\n",
       "      <td>Holzkonstruktion</td>\n",
       "      <td>886.html</td>\n",
       "      <td>26</td>\n",
       "      <td>Steidach, Hozbauweise, Dämmung, Gipskartonpatte</td>\n",
       "      <td>BMBau:1985, DIN 4108-4:1981-08</td>\n",
       "      <td>Steildach</td>\n",
       "      <td>[0.42]</td>\n",
       "      <td>1979 bis 1983</td>\n",
       "    </tr>\n",
       "    <tr>\n",
       "      <th>4</th>\n",
       "      <td>massiv, zweischalig</td>\n",
       "      <td>941.html</td>\n",
       "      <td>48</td>\n",
       "      <td>Außenwand, massiv, Kaksand-Lochstein, Dämmung,...</td>\n",
       "      <td>Haustypologie Münster, Nikolic:1977, DIN 4108:...</td>\n",
       "      <td>Außenwand</td>\n",
       "      <td>[0.86, 0.87, 0.88, 0.89, 0.9, 0.91, 0.92, 0.93...</td>\n",
       "      <td>1979 bis 1983</td>\n",
       "    </tr>\n",
       "  </tbody>\n",
       "</table>\n",
       "</div>"
      ],
      "text/plain": [
       "          Construction      File Location  \\\n",
       "0               massiv  849.html       48   \n",
       "1               massiv  445.html       45   \n",
       "2     Holzkonstruktion  762.html       36   \n",
       "3     Holzkonstruktion  886.html       26   \n",
       "4  massiv, zweischalig  941.html       48   \n",
       "\n",
       "                                                Name  \\\n",
       "0  Fachdach, massiv, Stahbeton, geringe Dämmung, ...   \n",
       "1     Fachdach, massiv, Stahbeton, Dämmung, Warmdach   \n",
       "2                     Steidach, Hozbauweise, Dämmung   \n",
       "3    Steidach, Hozbauweise, Dämmung, Gipskartonpatte   \n",
       "4  Außenwand, massiv, Kaksand-Lochstein, Dämmung,...   \n",
       "\n",
       "                                              Source       Type  \\\n",
       "0               Typologie Münster, DIN 4108:1960-05,  Flachdach   \n",
       "1                 Typologie Essen, DIN 4108:1969-08,  Flachdach   \n",
       "2         Typologie Bad Hersfeld, DIN 4108-4:1981-08  Steildach   \n",
       "3                     BMBau:1985, DIN 4108-4:1981-08  Steildach   \n",
       "4  Haustypologie Münster, Nikolic:1977, DIN 4108:...  Außenwand   \n",
       "\n",
       "                                                Uval           Year  \n",
       "0  [0.91, 0.92, 0.93, 0.94, 0.95, 0.96, 0.97, 0.9...  1958 bis 1978  \n",
       "1                                             [0.51]  1969 bis 1978  \n",
       "2                                             [0.35]  1984 bis 1994  \n",
       "3                                             [0.42]  1979 bis 1983  \n",
       "4  [0.86, 0.87, 0.88, 0.89, 0.9, 0.91, 0.92, 0.93...  1979 bis 1983  "
      ]
     },
     "execution_count": 7,
     "metadata": {},
     "output_type": "execute_result"
    }
   ],
   "source": [
    "material_table.head()"
   ]
  },
  {
   "cell_type": "markdown",
   "metadata": {},
   "source": [
    "I found **779** building components on a 1499 sample."
   ]
  },
  {
   "cell_type": "markdown",
   "metadata": {},
   "source": [
    "# 3. Material characteristics"
   ]
  },
  {
   "cell_type": "code",
   "execution_count": 8,
   "metadata": {
    "collapsed": true
   },
   "outputs": [],
   "source": [
    "from scripts.fetchData import getHtmlData, a2\n",
    "from scripts.fetchData import getMaterialTable"
   ]
  },
  {
   "cell_type": "code",
   "execution_count": 9,
   "metadata": {
    "collapsed": false
   },
   "outputs": [],
   "source": [
    "example_file = \"365.html\""
   ]
  },
  {
   "cell_type": "code",
   "execution_count": 10,
   "metadata": {
    "collapsed": false
   },
   "outputs": [],
   "source": [
    "html_data = getHtmlData(example_file)"
   ]
  },
  {
   "cell_type": "code",
   "execution_count": 11,
   "metadata": {
    "collapsed": false
   },
   "outputs": [],
   "source": [
    "p0 = html_data.index([a for a in html_data if \"Material\" in str(a)][0])\n",
    "p1 = p0 + 5"
   ]
  },
  {
   "cell_type": "code",
   "execution_count": 12,
   "metadata": {
    "collapsed": false
   },
   "outputs": [
    {
     "data": {
      "text/html": [
       "<DIV class=\"fett\"  left:421px; top:504px; width: 343px; height: 59px; font-size:20px;\">Material / Aufbau<br>\n",
       " <span style=\"font-size:12px;\">(von innen nach außen)</span></DIV>\n",
       " <DIV class=\"light\"  left:421px; font-size:10px; color:#FFFFFF; top:556px; width: 361px; height: 313px; padding-right: 10px; padding-left: 10px; padding-top: 10px;\">\n",
       " <table border=\"1\" width=\"341\" cellspacing=\"0\" cellpadding=\"5\" style=\"border: solid 2px white; font-size: 15px;\"><tr style=\"font-weight:normal;\"><td>Material<br>&nbsp;</td><td>Stärke<br>[cm]</td><td>Rohdichte<br>[kg/m³]</td><td>&#955-Wert<br>[W/(mK)]</td></tr>\n",
       " <tr ><td style=\"border-color:#FFFFFF;border-style: solid;\">Innenputz </td><td style=\"border-color:#FFFFFF;border-style: solid;\">1,0</td><td style=\"border-color:#FFFFFF;border-style: solid;\">-</td><td style=\"border-color:#FFFFFF;border-style: solid;\">0,7</td></tr><tr ><td style=\"border-width:1px 1px 0px 1px;border-color:#FFFFFF;border-style: solid;\">Bimsbetonhohlblockstein Hbl 25 </td><td style=\"border-width:1px 1px 0px 1px;border-color:#FFFFFF;border-style: solid;\">24,0</td><td style=\"border-width:1px 1px 0px 1px;border-color:#FFFFFF;border-style: solid;\">1000</td><td style=\"border-width:1px 1px 0px 1px;border-color:#FFFFFF;border-style: solid;\">0,44</td></tr><tr ><td style=\"border-width:0px 1px 0px 1px;border-color:#FFFFFF;border-style: solid;\">Bimsbetonhohlblockstein Hbl 25 </td><td style=\"border-width:0px 1px 0px 1px;border-color:#FFFFFF;border-style: solid;\">24,0</td><td style=\"border-width:0px 1px 0px 1px;border-color:#FFFFFF;border-style: solid;\">1400</td><td style=\"border-width:0px 1px 0px 1px;border-color:#FFFFFF;border-style: solid;\">0,56</td></tr><tr ><td style=\"border-color:#FFFFFF;border-style: solid;\">Außenputz </td><td style=\"border-color:#FFFFFF;border-style: solid;\">1,5</td><td style=\"border-color:#FFFFFF;border-style: solid;\">-</td><td style=\"border-color:#FFFFFF;border-style: solid;\">0,87</td></tr></table><span style=\"font-size:16px;font-weight:normal;\"><br> <br> &#8226; Verwendung Hbl 50 im EG, Hbl 25 im OG</span>\n"
      ],
      "text/plain": [
       "<IPython.core.display.HTML object>"
      ]
     },
     "execution_count": 12,
     "metadata": {},
     "output_type": "execute_result"
    }
   ],
   "source": [
    "table_html = \" \".join(html_data[p0:p1]).replace(a2, \"\")#.replace(sb, \"\")\n",
    "HTML(table_html)"
   ]
  },
  {
   "cell_type": "code",
   "execution_count": 13,
   "metadata": {
    "collapsed": false
   },
   "outputs": [
    {
     "data": {
      "text/html": [
       "<div>\n",
       "<table border=\"1\" class=\"dataframe\">\n",
       "  <thead>\n",
       "    <tr style=\"text-align: right;\">\n",
       "      <th></th>\n",
       "      <th>Material</th>\n",
       "      <th>Width</th>\n",
       "      <th>Density</th>\n",
       "      <th>Conductivity</th>\n",
       "    </tr>\n",
       "  </thead>\n",
       "  <tbody>\n",
       "    <tr>\n",
       "      <th>0</th>\n",
       "      <td>Innenputz</td>\n",
       "      <td>1.0</td>\n",
       "      <td>-</td>\n",
       "      <td>0.70</td>\n",
       "    </tr>\n",
       "    <tr>\n",
       "      <th>1</th>\n",
       "      <td>Bimsbetonhohlblockstein Hbl 25</td>\n",
       "      <td>24.0</td>\n",
       "      <td>1000</td>\n",
       "      <td>0.44</td>\n",
       "    </tr>\n",
       "    <tr>\n",
       "      <th>2</th>\n",
       "      <td>Bimsbetonhohlblockstein Hbl 25</td>\n",
       "      <td>24.0</td>\n",
       "      <td>1400</td>\n",
       "      <td>0.56</td>\n",
       "    </tr>\n",
       "    <tr>\n",
       "      <th>3</th>\n",
       "      <td>Außenputz</td>\n",
       "      <td>1.5</td>\n",
       "      <td>-</td>\n",
       "      <td>0.87</td>\n",
       "    </tr>\n",
       "  </tbody>\n",
       "</table>\n",
       "</div>"
      ],
      "text/plain": [
       "                         Material  Width Density  Conductivity\n",
       "0                       Innenputz    1.0       -          0.70\n",
       "1  Bimsbetonhohlblockstein Hbl 25   24.0    1000          0.44\n",
       "2  Bimsbetonhohlblockstein Hbl 25   24.0    1400          0.56\n",
       "3                       Außenputz    1.5       -          0.87"
      ]
     },
     "execution_count": 13,
     "metadata": {},
     "output_type": "execute_result"
    }
   ],
   "source": [
    "getMaterialTable(html_data)"
   ]
  },
  {
   "cell_type": "code",
   "execution_count": 14,
   "metadata": {
    "collapsed": false
   },
   "outputs": [
    {
     "data": {
      "text/html": [
       "<div>\n",
       "<table border=\"1\" class=\"dataframe\">\n",
       "  <thead>\n",
       "    <tr style=\"text-align: right;\">\n",
       "      <th></th>\n",
       "      <th>Construction</th>\n",
       "      <th>File</th>\n",
       "      <th>Location</th>\n",
       "      <th>Name</th>\n",
       "      <th>Source</th>\n",
       "      <th>Type</th>\n",
       "      <th>Uval</th>\n",
       "      <th>Year</th>\n",
       "    </tr>\n",
       "  </thead>\n",
       "  <tbody>\n",
       "    <tr>\n",
       "      <th>172</th>\n",
       "      <td>massiv, monolithisch</td>\n",
       "      <td>365.html</td>\n",
       "      <td>40</td>\n",
       "      <td>Außenwand, massiv, Bimshohbockstein</td>\n",
       "      <td>Typologie Düsseldorf, DIN 4108:1952-07</td>\n",
       "      <td>Außenwand</td>\n",
       "      <td>[1.34, 1.59]</td>\n",
       "      <td>1949 bis 1957</td>\n",
       "    </tr>\n",
       "  </tbody>\n",
       "</table>\n",
       "</div>"
      ],
      "text/plain": [
       "             Construction      File Location  \\\n",
       "172  massiv, monolithisch  365.html       40   \n",
       "\n",
       "                                    Name  \\\n",
       "172  Außenwand, massiv, Bimshohbockstein   \n",
       "\n",
       "                                     Source       Type          Uval  \\\n",
       "172  Typologie Düsseldorf, DIN 4108:1952-07  Außenwand  [1.34, 1.59]   \n",
       "\n",
       "              Year  \n",
       "172  1949 bis 1957  "
      ]
     },
     "execution_count": 14,
     "metadata": {},
     "output_type": "execute_result"
    }
   ],
   "source": [
    "material_table[material_table.File == example_file]"
   ]
  },
  {
   "cell_type": "markdown",
   "metadata": {},
   "source": [
    "# 4. Store the data on a HDF5 file"
   ]
  },
  {
   "cell_type": "code",
   "execution_count": 20,
   "metadata": {
    "collapsed": false
   },
   "outputs": [],
   "source": [
    "from pandas import HDFStore\n",
    "import pandas as pd"
   ]
  },
  {
   "cell_type": "markdown",
   "metadata": {},
   "source": [
    "see http://pandas.pydata.org/pandas-docs/stable/io.html#io-hdf5 for more information about HDF5 files."
   ]
  },
  {
   "cell_type": "code",
   "execution_count": 16,
   "metadata": {
    "collapsed": false
   },
   "outputs": [],
   "source": [
    "store = HDFStore('materials.h5')"
   ]
  },
  {
   "cell_type": "code",
   "execution_count": null,
   "metadata": {
    "collapsed": false
   },
   "outputs": [],
   "source": [
    "store['elements'] = material_table"
   ]
  },
  {
   "cell_type": "code",
   "execution_count": null,
   "metadata": {
    "collapsed": false
   },
   "outputs": [],
   "source": [
    "P = []\n",
    "for html_file in material_table.File.tolist():\n",
    "    file_name = \"table_\"+html_file.split(\".\")[0]\n",
    "    html_data = getHtmlData(html_file)\n",
    "    element_materials = getMaterialTable(html_data)\n",
    "    store[file_name] = element_materials\n",
    "    for a,b,c in zip(element_materials.Material.tolist(),\n",
    "                     element_materials.Density.tolist(),\n",
    "                     element_materials.Conductivity.tolist()):\n",
    "        if (a,b,c) not in P:\n",
    "            P.append((a,b,c))"
   ]
  },
  {
   "cell_type": "code",
   "execution_count": null,
   "metadata": {
    "collapsed": false
   },
   "outputs": [],
   "source": [
    "P = pd.DataFrame(P, columns=[\"Material\", \"Density\", \"Conductivity\"])\n",
    "store[\"materials\"] = P"
   ]
  },
  {
   "cell_type": "code",
   "execution_count": 22,
   "metadata": {
    "collapsed": false
   },
   "outputs": [
    {
     "name": "stdout",
     "output_type": "stream",
     "text": [
      "False\n"
     ]
    }
   ],
   "source": [
    "if store.is_open: store.close()\n",
    "print(store.is_open)"
   ]
  },
  {
   "cell_type": "markdown",
   "metadata": {},
   "source": [
    "#References\n",
    "\n",
    "<a name=\"cite-Klauss.2009\"/><sup>[^](#ref-1) </sup>Klauß, Swen and Kirchhof, Wiebke and Gissel, Johanna. 2009. _Katalog regionaltypischer Materialien im Geb\\\"{audebestand mit Bezug auf die Baualtersklasse und Ableitung typischer Bauteilaufbauten: 2., berichtigte Version_.\n",
    "\n",
    "<a name=\"cite-Klauss.2009b\"/><sup>[^](#ref-2) </sup>Klauß, Swen and Kirchhof, Wiebke and Gissel, Johanna. 2009b. _Erfassung regionaltypischer Materialien im Geb\\\"{audebestand mit Bezug auf die Baualtersklasse und Ableitung typischer Bauteilaufbauten_.\n",
    "\n"
   ]
  }
 ],
 "metadata": {
  "kernelspec": {
   "display_name": "Python 3",
   "language": "python",
   "name": "python3"
  }
 },
 "nbformat": 4,
 "nbformat_minor": 0
}
